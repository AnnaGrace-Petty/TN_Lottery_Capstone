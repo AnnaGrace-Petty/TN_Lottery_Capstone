{
 "cells": [
  {
   "cell_type": "code",
   "execution_count": null,
   "id": "fba6e23a",
   "metadata": {},
   "outputs": [],
   "source": [
    "import cloudscraper\n",
    "from bs4 import BeautifulSoup\n",
    "import pandas as pd"
   ]
  },
  {
   "cell_type": "code",
   "execution_count": null,
   "id": "666e2b3d",
   "metadata": {},
   "outputs": [],
   "source": [
    "URL = 'https://tnlottery.com/winners/page/'"
   ]
  },
  {
   "cell_type": "code",
   "execution_count": null,
   "id": "1bf3d573",
   "metadata": {},
   "outputs": [],
   "source": [
    "scraper = cloudscraper.create_scraper(delay=10,   browser={'custom': 'ScraperBot/1.0',})\n",
    "req = scraper.get(URL + str(1))"
   ]
  },
  {
   "cell_type": "code",
   "execution_count": null,
   "id": "2b50b3c7",
   "metadata": {},
   "outputs": [],
   "source": [
    "soup = BeautifulSoup(req.text)"
   ]
  },
  {
   "cell_type": "code",
   "execution_count": null,
   "id": "c4b817ef",
   "metadata": {},
   "outputs": [],
   "source": [
    "soup"
   ]
  },
  {
   "cell_type": "code",
   "execution_count": null,
   "id": "bb09ffcd",
   "metadata": {},
   "outputs": [],
   "source": [
    "print(soup.prettify())"
   ]
  },
  {
   "cell_type": "code",
   "execution_count": null,
   "id": "83ead23c",
   "metadata": {},
   "outputs": [],
   "source": [
    "soup.findAll('title')"
   ]
  },
  {
   "cell_type": "code",
   "execution_count": null,
   "id": "d52372f5",
   "metadata": {},
   "outputs": [],
   "source": [
    "soup.find('h3', attrs={'class' : 'white sans-serif'})"
   ]
  },
  {
   "cell_type": "code",
   "execution_count": null,
   "id": "a5533704",
   "metadata": {},
   "outputs": [],
   "source": [
    "winners = soup.findAll('h3', attrs={'class' : 'white sans-serif'})"
   ]
  },
  {
   "cell_type": "code",
   "execution_count": null,
   "id": "a9316671",
   "metadata": {},
   "outputs": [],
   "source": [
    "winners[0].text"
   ]
  },
  {
   "cell_type": "code",
   "execution_count": null,
   "id": "c416cb1d",
   "metadata": {},
   "outputs": [],
   "source": [
    "winner_list = [y.text for y in winners]"
   ]
  },
  {
   "cell_type": "code",
   "execution_count": null,
   "id": "f705195e",
   "metadata": {},
   "outputs": [],
   "source": [
    "winner_list"
   ]
  },
  {
   "cell_type": "code",
   "execution_count": null,
   "id": "f21ebf82",
   "metadata": {},
   "outputs": [],
   "source": [
    "amount = soup.findAll('div', attrs={'class' : 'amount'})\n",
    "amount[0].text"
   ]
  },
  {
   "cell_type": "code",
   "execution_count": null,
   "id": "43d4a89a",
   "metadata": {},
   "outputs": [],
   "source": [
    "amount_list = [y.text for y in amount]\n",
    "amount_list"
   ]
  },
  {
   "cell_type": "code",
   "execution_count": null,
   "id": "a2dc03bc",
   "metadata": {},
   "outputs": [],
   "source": [
    "game = soup.findAll('p', attrs={'class' : 'white'})\n",
    "game[0].text"
   ]
  },
  {
   "cell_type": "code",
   "execution_count": null,
   "id": "fefaf734",
   "metadata": {},
   "outputs": [],
   "source": [
    "game_list = [y.text for y in game]\n",
    "game_list = game_list[:12]\n",
    "game_list"
   ]
  },
  {
   "cell_type": "code",
   "execution_count": null,
   "id": "174255a5",
   "metadata": {},
   "outputs": [],
   "source": [
    "location = soup.findAll('a', attrs={'class' : 'white location'})\n",
    "location[0].text"
   ]
  },
  {
   "cell_type": "code",
   "execution_count": null,
   "id": "4571305c",
   "metadata": {},
   "outputs": [],
   "source": [
    "location_list = [y.text for y in location]\n",
    "location_list"
   ]
  },
  {
   "cell_type": "code",
   "execution_count": null,
   "id": "92e8eac8",
   "metadata": {},
   "outputs": [],
   "source": [
    "soup.findAll('a', attrs={'class' : 'white location'})"
   ]
  },
  {
   "cell_type": "code",
   "execution_count": null,
   "id": "4bfaae34",
   "metadata": {},
   "outputs": [],
   "source": [
    "google_site = [y.get('href') for y in location]\n",
    "google_site"
   ]
  },
  {
   "cell_type": "code",
   "execution_count": null,
   "id": "9f169d30",
   "metadata": {},
   "outputs": [],
   "source": [
    "zip_list  = []\n",
    "\n",
    "for zip in google_site:\n",
    "    x = zip.split('+')\n",
    "    zip_list.append(x[1])"
   ]
  },
  {
   "cell_type": "code",
   "execution_count": null,
   "id": "b8e564d0",
   "metadata": {},
   "outputs": [],
   "source": [
    "zip_list"
   ]
  },
  {
   "cell_type": "code",
   "execution_count": null,
   "id": "3430981c",
   "metadata": {},
   "outputs": [],
   "source": [
    "city = soup.findAll('span', attrs={'class' : 'white'})"
   ]
  },
  {
   "cell_type": "code",
   "execution_count": null,
   "id": "b673dc11",
   "metadata": {},
   "outputs": [],
   "source": [
    "city_list = [y.text for y in city]\n",
    "city_list"
   ]
  },
  {
   "cell_type": "code",
   "execution_count": null,
   "id": "5e123347",
   "metadata": {},
   "outputs": [],
   "source": [
    "page_1_df = pd.DataFrame({'name' : winner_list, \n",
    "                          'money' : amount_list, \n",
    "                          'game' : game_list, \n",
    "                          'store' : location_list, \n",
    "                          'city' : city_list, \n",
    "                          'zipcode' : zip_list, \n",
    "                          'google_link' : google_site})\n",
    "page_1_df"
   ]
  },
  {
   "cell_type": "code",
   "execution_count": null,
   "id": "911660d7",
   "metadata": {},
   "outputs": [],
   "source": [
    "main_winner_list = []\n",
    "main_amount_list = []\n",
    "main_game_list = []\n",
    "main_location_list = []\n",
    "main_city_list = []\n",
    "main_zip_list = []\n",
    "main_google_site = []\n",
    "\n",
    "\n",
    "for num in range(1, 6):\n",
    "    new_url = URL + str(num)\n",
    "    scraper = cloudscraper.create_scraper(delay=10,   browser={'custom': 'ScraperBot/1.0',})\n",
    "    req = scraper.get(new_url)\n",
    "    soup = BeautifulSoup(req.text)\n",
    "    \n",
    "    winners = soup.findAll('h3', attrs={'class' : 'white sans-serif'})\n",
    "    winner_list = [y.text for y in winners]\n",
    "    main_winner_list.extend(winner_list)\n",
    "    \n",
    "    amount = soup.findAll('div', attrs={'class' : 'amount'})\n",
    "    amount_list = [y.text for y in amount]\n",
    "    main_amount_list.extend(amount_list)\n",
    "    \n",
    "    game = soup.findAll('p', attrs={'class' : 'white'})\n",
    "    game_list = [y.text for y in game]\n",
    "    game_list = game_list[:12]\n",
    "    main_game_list.extend(game_list)\n",
    "    \n",
    "    location = soup.findAll('a', attrs={'class' : 'white location'})\n",
    "    location_list = [y.text for y in location]\n",
    "    main_location_list.extend(location_list)\n",
    "    \n",
    "    city = soup.findAll('span', attrs={'class' : 'white'})\n",
    "    city_list = [y.text for y in city]\n",
    "    main_city_list.extend(city_list)\n",
    "    \n",
    "    google_site = [y.get('href') for y in location]\n",
    "    main_google_site.extend(google_site)\n",
    "    \n",
    "    zip_list  = []\n",
    "    \n",
    "    for zip in google_site:\n",
    "        x = zip.split('+')\n",
    "        zip_list.append(x[1])\n",
    "    \n",
    "    main_zip_list.extend(zip_list)\n",
    "    "
   ]
  },
  {
   "cell_type": "code",
   "execution_count": null,
   "id": "0272c9ed",
   "metadata": {},
   "outputs": [],
   "source": [
    "print(len(main_winner_list))\n",
    "print(len(main_amount_list))\n",
    "print(len(main_game_list))\n",
    "print(len(main_location_list))\n",
    "print(len(main_city_list))\n",
    "print(len(main_zip_list))\n",
    "print(len(main_google_site))"
   ]
  },
  {
   "cell_type": "code",
   "execution_count": null,
   "id": "e99a7d65",
   "metadata": {},
   "outputs": [],
   "source": [
    "people_loc_df = pd.DataFrame({'name' : main_winner_list, \n",
    "                              'money' : main_amount_list, \n",
    "                              'game' : main_game_list})\n",
    "people_loc_df.shape"
   ]
  },
  {
   "cell_type": "code",
   "execution_count": null,
   "id": "f86ceebe",
   "metadata": {},
   "outputs": [],
   "source": [
    "people_loc_df = people_loc_df[people_loc_df['name'] != 'Mary Williams']\n",
    "people_loc_df = people_loc_df.reset_index(drop = True)\n",
    "people_loc_df.head()"
   ]
  },
  {
   "cell_type": "code",
   "execution_count": null,
   "id": "f79613c8",
   "metadata": {},
   "outputs": [],
   "source": [
    "location_df = pd.DataFrame({'store' : main_location_list, \n",
    "                            'city' : main_city_list, \n",
    "                            'zipcode' : main_zip_list, \n",
    "                            'google_link' : main_google_site})\n",
    "location_df.head()"
   ]
  },
  {
   "cell_type": "code",
   "execution_count": null,
   "id": "4087efb6",
   "metadata": {
    "scrolled": true
   },
   "outputs": [],
   "source": [
    "location_people = pd.merge(people_loc_df, location_df, \n",
    "                           left_index=True, right_index=True)\n",
    "location_people = location_people[location_people['name'] != 'Kevin Wiggins']\n",
    "location_people"
   ]
  },
  {
   "cell_type": "code",
   "execution_count": null,
   "id": "f2e6dbf7",
   "metadata": {},
   "outputs": [],
   "source": [
    "#location_people.to_csv('../data/location_people.csv')"
   ]
  },
  {
   "cell_type": "code",
   "execution_count": null,
   "id": "7ddad1ef",
   "metadata": {},
   "outputs": [],
   "source": [
    "second_winner_list = []\n",
    "second_amount_list = []\n",
    "second_game_list = []\n",
    "\n",
    "\n",
    "\n",
    "for num in range(1, 87):\n",
    "    new_url = URL + str(num)\n",
    "    scraper = cloudscraper.create_scraper(delay=10,   browser={'custom': 'ScraperBot/1.0',})\n",
    "    req = scraper.get(new_url)\n",
    "    soup = BeautifulSoup(req.text)\n",
    "    \n",
    "    winners = soup.findAll('h3', attrs={'class' : 'white sans-serif'})\n",
    "    winner_list = [y.text for y in winners]\n",
    "    second_winner_list.extend(winner_list)\n",
    "    \n",
    "    amount = soup.findAll('div', attrs={'class' : 'amount'})\n",
    "    amount_list = [y.text for y in amount]\n",
    "    second_amount_list.extend(amount_list)\n",
    "    \n",
    "    game = soup.findAll('p', attrs={'class' : 'white'})\n",
    "    game_list = [y.text for y in game]\n",
    "    game_list = game_list[:12]\n",
    "    second_game_list.extend(game_list)\n",
    "\n",
    "    "
   ]
  },
  {
   "cell_type": "code",
   "execution_count": null,
   "id": "ee25afff",
   "metadata": {},
   "outputs": [],
   "source": [
    "print(len(second_winner_list))\n",
    "print(len(second_amount_list))\n",
    "print(len(second_game_list))"
   ]
  },
  {
   "cell_type": "code",
   "execution_count": null,
   "id": "1d2060a0",
   "metadata": {},
   "outputs": [],
   "source": [
    "second_game_list"
   ]
  },
  {
   "cell_type": "code",
   "execution_count": null,
   "id": "49ad60c8",
   "metadata": {},
   "outputs": [],
   "source": [
    "winnings_df = pd.DataFrame({'winnings' : second_amount_list})\n",
    "winnings_df.head()"
   ]
  },
  {
   "cell_type": "code",
   "execution_count": null,
   "id": "434e9690",
   "metadata": {},
   "outputs": [],
   "source": [
    "name_df = pd.DataFrame({'name': second_winner_list})"
   ]
  },
  {
   "cell_type": "code",
   "execution_count": null,
   "id": "5cf14c28",
   "metadata": {},
   "outputs": [],
   "source": [
    "name_df_2 = name_df[name_df['name'] != 'Debra T. & Harriet B.']\n",
    "name_df_2 = name_df_2[name_df_2['name'] != 'Sonja Beal']\n",
    "name_df_2 = name_df_2[name_df_2['name'] != 'Tony Robinson']\n",
    "name_df_2 = name_df_2[name_df_2['name'] != 'Daryl Jones']\n",
    "name_df_2 = name_df_2[name_df_2['name'] != 'Anthony Dowell']\n",
    "name_df_2 = name_df_2[name_df_2['name'] != 'Michael Vaughn']\n",
    "name_df_2 = name_df_2.reset_index(drop = True)"
   ]
  },
  {
   "cell_type": "code",
   "execution_count": null,
   "id": "0471eaea",
   "metadata": {},
   "outputs": [],
   "source": [
    "game_df = pd.DataFrame({'game' : second_game_list})\n",
    "game_df = game_df[game_df['game'] != '© Tennessee Education Lottery Corporation 2022.']\n",
    "game_df = game_df.reset_index(drop = True)\n",
    "game_df.head()"
   ]
  },
  {
   "cell_type": "code",
   "execution_count": null,
   "id": "bbae279c",
   "metadata": {},
   "outputs": [],
   "source": [
    "winner_game = pd.merge(name_df, game_df, \n",
    "                           left_index=True, right_index=True)\n",
    "winner_game"
   ]
  },
  {
   "cell_type": "code",
   "execution_count": null,
   "id": "980787fa",
   "metadata": {},
   "outputs": [],
   "source": [
    "winner_amount = pd.merge(name_df_2, winnings_df, \n",
    "                           left_index=True, right_index=True)\n",
    "winner_amount"
   ]
  },
  {
   "cell_type": "code",
   "execution_count": null,
   "id": "7bd9332e",
   "metadata": {},
   "outputs": [],
   "source": [
    "game_winners_df =pd.merge(winner_game, winner_amount, \n",
    "                           on = 'name')\n",
    "game_winners_df"
   ]
  },
  {
   "cell_type": "code",
   "execution_count": null,
   "id": "a3cb0055",
   "metadata": {},
   "outputs": [],
   "source": [
    "game_winners_df['game'] = game_winners_df['game'].str.replace('Game: ', '')\n",
    "game_winners_df['game'] = game_winners_df['game'].str.upper()\n",
    "game_winners_df['game'] = game_winners_df['game'].str.replace('GOLDEN 7S',\"GOLDEN 7'S\")\n",
    "game_winners_df.head()"
   ]
  },
  {
   "cell_type": "code",
   "execution_count": null,
   "id": "d9280c95",
   "metadata": {},
   "outputs": [],
   "source": [
    "drawing_games = game_winners_df.loc[(game_winners_df['game'] == 'POWERBALL') |\n",
    "(game_winners_df['game'] == 'CASH 4' )|\n",
    "(game_winners_df['game'] == 'MEGA MILLIONS' )|\n",
    "(game_winners_df['game'] == 'VIP REWARDS DRAWING' )|\n",
    "(game_winners_df['game'] == 'LOTTO AMERICA') |\n",
    "(game_winners_df['game'] == 'KENO TO GO') |\n",
    "(game_winners_df['game'] == 'VIP SECOND CHANCE DRAWING' )|\n",
    "(game_winners_df['game'] == 'POWERBALL DOUBLE PLAY' )|\n",
    "(game_winners_df['game'] == 'POWERBALL 1ST MILLIONAIRE OF THE YEAR SEMI-FINALIST' )|\n",
    "(game_winners_df['game'] == 'CASH 4 LIFE')]\n",
    "\n",
    "drawing_games"
   ]
  },
  {
   "cell_type": "code",
   "execution_count": null,
   "id": "0e7bbd69",
   "metadata": {},
   "outputs": [],
   "source": [
    "#drawing_games.to_csv('../data/drawing_games.csv')"
   ]
  },
  {
   "cell_type": "code",
   "execution_count": null,
   "id": "c8d4f3e8",
   "metadata": {},
   "outputs": [],
   "source": [
    "game_winners_df = game_winners_df[game_winners_df['game'] != 'POWERBALL']\n",
    "game_winners_df = game_winners_df[game_winners_df['game'] != 'CASH 4']\n",
    "game_winners_df = game_winners_df[game_winners_df['game'] != 'MEGA MILLIONS']\n",
    "game_winners_df = game_winners_df[game_winners_df['game'] != 'VIP REWARDS DRAWING']\n",
    "game_winners_df = game_winners_df[game_winners_df['game'] != 'LOTTO AMERICA']\n",
    "game_winners_df = game_winners_df[game_winners_df['game'] != 'KENO TO GO']\n",
    "game_winners_df = game_winners_df[game_winners_df['game'] != 'PLAY IT AGAIN!']\n",
    "game_winners_df = game_winners_df[game_winners_df['game'] != 'TENNESSEE CASH']\n",
    "game_winners_df = game_winners_df[game_winners_df['game'] != 'VIP SECOND CHANCE DRAWING']\n",
    "game_winners_df = game_winners_df[game_winners_df['game'] != 'POWERBALL DOUBLE PLAY']\n",
    "game_winners_df = game_winners_df[game_winners_df['game'] != 'JUMBO BUCKS PREMIUM EDITION']\n",
    "game_winners_df = game_winners_df[game_winners_df['game'] != 'ULTIMATE 7S']\n",
    "game_winners_df = game_winners_df[game_winners_df['game'] != \"WHITE HOT 7'S\"]\n",
    "game_winners_df = game_winners_df[game_winners_df['game'] != '$500,000 BANKROLL']\n",
    "game_winners_df = game_winners_df[game_winners_df['game'] != 'HIT THE JACKPOT']\n",
    "game_winners_df = game_winners_df[game_winners_df['game'] != 'MERRY & BRIGHT']\n",
    "game_winners_df = game_winners_df[game_winners_df['game'] != 'HOLIDAY CASH BONUS']\n",
    "game_winners_df = game_winners_df[game_winners_df['game'] != 'BOOMING BUCKS']\n",
    "game_winners_df = game_winners_df[game_winners_df['game'] != 'POWERBALL 1ST MILLIONAIRE OF THE YEAR SEMI-FINALIST']\n",
    "game_winners_df = game_winners_df[game_winners_df['game'] != 'HOLIDAY MONEY']\n",
    "game_winners_df = game_winners_df[game_winners_df['game'] != 'HOLIDAY DELIGHT']\n",
    "game_winners_df = game_winners_df[game_winners_df['game'] != '50X BONUS']\n",
    "game_winners_df = game_winners_df[game_winners_df['game'] != 'FAST CASH FEVER']\n",
    "game_winners_df = game_winners_df[game_winners_df['game'] != 'LOTERIA']\n",
    "game_winners_df = game_winners_df[game_winners_df['game'] != 'MILLIONAIRE MONEY']\n",
    "game_winners_df = game_winners_df[game_winners_df['game'] != '10X BONUS']\n",
    "game_winners_df = game_winners_df[game_winners_df['game'] != \"TRIPLE RED 7'S\"]\n",
    "game_winners_df = game_winners_df[game_winners_df['game'] != 'TRIPLE SAPPHIRE']\n",
    "game_winners_df = game_winners_df[game_winners_df['game'] != '100X']\n",
    "game_winners_df = game_winners_df[game_winners_df['game'] != \"MEGA 7'S\"]\n",
    "game_winners_df = game_winners_df[game_winners_df['game'] != '$500,000 EXTREME']\n",
    "game_winners_df = game_winners_df[game_winners_df['game'] != 'I LOVE CASH']\n",
    "game_winners_df = game_winners_df[game_winners_df['game'] != '$500,000 HOLIDAY RICHES']\n",
    "game_winners_df = game_winners_df[game_winners_df['game'] != 'FANTASTIC 10S']\n",
    "game_winners_df = game_winners_df[game_winners_df['game'] != '20X BONUS']\n",
    "game_winners_df = game_winners_df[game_winners_df['game'] != 'ULTIMATE 200X']\n",
    "game_winners_df = game_winners_df[game_winners_df['game'] != '$250,000 EXTREME CASH']\n",
    "game_winners_df = game_winners_df[game_winners_df['game'] != 'HIT $5,000']\n",
    "game_winners_df = game_winners_df[game_winners_df['game'] != 'LADY LUCK DOUBLER']\n",
    "game_winners_df = game_winners_df[game_winners_df['game'] != 'SUPER TRIPLER WIN']\n",
    "game_winners_df = game_winners_df[game_winners_df['game'] != '$100,000 BANKROLL']\n",
    "game_winners_df = game_winners_df[game_winners_df['game'] != 'RED HOT $500,000']\n",
    "game_winners_df = game_winners_df[game_winners_df['game'] != 'MERRY MULTIPLIER']\n",
    "game_winners_df = game_winners_df[game_winners_df['game'] != 'CASH TO GO!']\n",
    "game_winners_df = game_winners_df[game_winners_df['game'] != '$200,000 HAPPY HOLIDAYS']\n",
    "game_winners_df = game_winners_df[game_winners_df['game'] != 'HOLIDAY MAGIC']\n",
    "game_winners_df = game_winners_df[game_winners_df['game'] != \"SUPER 7'S\"]\n",
    "game_winners_df = game_winners_df[game_winners_df['game'] != 'HIT $5,000 BONUS EDITION']\n",
    "game_winners_df = game_winners_df[game_winners_df['game'] != \"RUBY RED 10'S\"]\n",
    "game_winners_df = game_winners_df[game_winners_df['game'] != 'MONEY MANIA!']\n",
    "game_winners_df = game_winners_df[game_winners_df['game'] != 'SPECIAL EDITION JUMBO BUCKS']\n",
    "game_winners_df = game_winners_df[game_winners_df['game'] != 'ROYAL WIN']\n",
    "game_winners_df = game_winners_df[game_winners_df['game'] != 'BONUS DOUBLE MATCH']\n",
    "game_winners_df = game_winners_df[game_winners_df['game'] != 'MONOPOLY 50X']\n",
    "game_winners_df = game_winners_df[game_winners_df['game'] != 'MONOPOLY 100X']\n",
    "game_winners_df = game_winners_df[game_winners_df['game'] != 'RED HOT RICHES']\n",
    "game_winners_df = game_winners_df[game_winners_df['game'] != '$500,000 GOLD']\n",
    "game_winners_df = game_winners_df[game_winners_df['game'] != 'BONUS 7']\n",
    "game_winners_df = game_winners_df[game_winners_df['game'] != '$500 FRENZY']\n",
    "game_winners_df = game_winners_df[game_winners_df['game'] != 'MONOPOLY 20X']\n",
    "game_winners_df = game_winners_df[game_winners_df['game'] != \"FANTASTIC 5'S\"]\n",
    "game_winners_df = game_winners_df[game_winners_df['game'] != 'SPECIAL EDITION J. B. 2020']\n",
    "game_winners_df = game_winners_df[game_winners_df['game'] != '50X']\n",
    "game_winners_df = game_winners_df[game_winners_df['game'] != 'FULL OF $10,000S']\n",
    "game_winners_df = game_winners_df[game_winners_df['game'] != '$500,000 SPECTACULAR']\n",
    "game_winners_df = game_winners_df[game_winners_df['game'] != '777']\n",
    "game_winners_df = game_winners_df[game_winners_df['game'] != 'DIAMONDS X10']\n",
    "game_winners_df = game_winners_df[game_winners_df['game'] != 'CASH MONEY']\n",
    "game_winners_df = game_winners_df[game_winners_df['game'] != 'HOLIDAY GIFTS']\n",
    "game_winners_df = game_winners_df[game_winners_df['game'] != '$20,000 HOLIDAY CHEER']\n",
    "game_winners_df = game_winners_df[game_winners_df['game'] != \"FULL OF $10,000'S\"]\n",
    "game_winners_df = game_winners_df[game_winners_df['game'] != 'PAYDAY MULTIPLIER']\n",
    "game_winners_df = game_winners_df[game_winners_df['game'] != 'BIG ORANGE 8S']\n",
    "game_winners_df = game_winners_df[game_winners_df['game'] != 'TN POWERBALL & MEGA MILLIONS']\n",
    "game_winners_df = game_winners_df[game_winners_df['game'] != 'RED HOT $100S']\n",
    "game_winners_df = game_winners_df[game_winners_df['game'] != 'SUPER HOT 7S']\n",
    "game_winners_df = game_winners_df[game_winners_df['game'] != 'TRIPLE CASH']\n",
    "game_winners_df = game_winners_df[game_winners_df['game'] != 'MONOPOLY']\n",
    "game_winners_df = game_winners_df[game_winners_df['game'] != \"NEON 7'S\"]\n",
    "game_winners_df = game_winners_df[game_winners_df['game'] != 'ALL ABOUT THE BENS']\n",
    "game_winners_df = game_winners_df[game_winners_df['game'] != 'CASH 4 LIFE']\n",
    "game_winners_df = game_winners_df[game_winners_df['game'] != 'CROWN JEWELS']"
   ]
  },
  {
   "cell_type": "code",
   "execution_count": null,
   "id": "e8266494",
   "metadata": {},
   "outputs": [],
   "source": [
    "URL_game = 'https://tnlottery.com/games/instant-games/'"
   ]
  },
  {
   "cell_type": "code",
   "execution_count": null,
   "id": "3a0827e0",
   "metadata": {},
   "outputs": [],
   "source": [
    "scraper = cloudscraper.create_scraper(delay=10,   browser={'custom': 'ScraperBot/1.0',})\n",
    "req = scraper.get(URL_game + str(1))"
   ]
  },
  {
   "cell_type": "code",
   "execution_count": null,
   "id": "1644a502",
   "metadata": {},
   "outputs": [],
   "source": [
    "soup_2 = BeautifulSoup(req.text)"
   ]
  },
  {
   "cell_type": "code",
   "execution_count": null,
   "id": "f7c71af1",
   "metadata": {},
   "outputs": [],
   "source": [
    "print(soup_2.prettify())"
   ]
  },
  {
   "cell_type": "code",
   "execution_count": null,
   "id": "4137a2ab",
   "metadata": {},
   "outputs": [],
   "source": [
    "soup_2.findAll('title')"
   ]
  },
  {
   "cell_type": "code",
   "execution_count": null,
   "id": "0be37e3d",
   "metadata": {},
   "outputs": [],
   "source": [
    "ig = soup_2.findAll('h2', attrs={'class' : 'black bold'})\n",
    "instant_game_list = [y.text for y in ig]\n",
    "instant_game_list"
   ]
  },
  {
   "cell_type": "code",
   "execution_count": null,
   "id": "e390ff0a",
   "metadata": {},
   "outputs": [],
   "source": [
    "cp = soup_2.findAll('p', attrs={'class' : 'cost'})\n",
    "cost_play_list = [y.text for y in cp]\n",
    "cost_play_list"
   ]
  },
  {
   "cell_type": "code",
   "execution_count": null,
   "id": "e8e1e641",
   "metadata": {},
   "outputs": [],
   "source": [
    "tp = soup_2.findAll('p', attrs={'class' : 'price'})\n",
    "top_prize_list = [y.text for y in tp]\n",
    "top_prize_list"
   ]
  },
  {
   "cell_type": "code",
   "execution_count": null,
   "id": "cfc8ae37",
   "metadata": {},
   "outputs": [],
   "source": [
    "main_instant_game =[]\n",
    "main_cost_play_list = []\n",
    "main_top_prize_list =[]\n",
    "\n",
    "for num in [1,2,3,5,10,20,25,30]:\n",
    "    new_url_game = URL_game + str(num)\n",
    "    scraper = cloudscraper.create_scraper(delay=10,   browser={'custom': 'ScraperBot/1.0',})\n",
    "    req = scraper.get(new_url_game)\n",
    "    soup_2 = BeautifulSoup(req.text)\n",
    "    \n",
    "    ig = soup_2.findAll('h2', attrs={'class' : 'black bold'})\n",
    "    instant_game_list = [y.text for y in ig]\n",
    "    main_instant_game.extend(instant_game_list)\n",
    "    \n",
    "    cp = soup_2.findAll('p', attrs={'class' : 'cost'})\n",
    "    cost_play_list = [y.text for y in cp]    \n",
    "    main_cost_play_list.extend(cost_play_list)\n",
    "    \n",
    "    tp = soup_2.findAll('p', attrs={'class' : 'price'})\n",
    "    top_prize_list = [y.text for y in tp]\n",
    "    main_top_prize_list.extend(top_prize_list)"
   ]
  },
  {
   "cell_type": "code",
   "execution_count": null,
   "id": "c376cac3",
   "metadata": {},
   "outputs": [],
   "source": [
    "main_cost_list = []\n",
    "\n",
    "for cost in main_cost_play_list:\n",
    "    x = cost.split(':')\n",
    "    main_cost_list.append(x[1])"
   ]
  },
  {
   "cell_type": "code",
   "execution_count": null,
   "id": "5c4a95aa",
   "metadata": {},
   "outputs": [],
   "source": [
    "cost_play_df = pd.DataFrame({'cost_to_play': main_cost_list})\n",
    "cost_play_df = cost_play_df[cost_play_df['cost_to_play'] != '']\n",
    "cost_play_df = cost_play_df['cost_to_play'].str.replace('.00', '')\n",
    "cost_play_df = cost_play_df.reset_index(drop = True)\n",
    "cost_play_df"
   ]
  },
  {
   "cell_type": "code",
   "execution_count": null,
   "id": "cb860bc6",
   "metadata": {},
   "outputs": [],
   "source": [
    "main_instant_list = []\n",
    "\n",
    "for game in main_instant_game:\n",
    "    x = game.split(' #')\n",
    "    main_instant_list.append(x[0])"
   ]
  },
  {
   "cell_type": "code",
   "execution_count": null,
   "id": "ecfa41ef",
   "metadata": {},
   "outputs": [],
   "source": [
    "game_prize = pd.DataFrame({'instant_game': main_instant_list,\n",
    "                           'top_prize': main_top_prize_list})\n",
    "game_prize"
   ]
  },
  {
   "cell_type": "code",
   "execution_count": null,
   "id": "d0202e25",
   "metadata": {},
   "outputs": [],
   "source": [
    "instant_games_df = pd.merge(game_prize, cost_play_df, \n",
    "                           left_index=True, right_index=True)\n",
    "instant_games_df.head()"
   ]
  },
  {
   "cell_type": "code",
   "execution_count": null,
   "id": "8aed54fc",
   "metadata": {},
   "outputs": [],
   "source": [
    "instant_games_df['top_prize'] = instant_games_df['top_prize'].str.replace('Top Prize: ', '')\n",
    "instant_games_df['instant_game'] = instant_games_df['instant_game'].str.replace('!', '')\n",
    "instant_games_df['instant_game'] = instant_games_df['instant_game'].str.upper()\n",
    "instant_games_df['instant_game'] = instant_games_df['instant_game'].str.replace(\"LUCKY 7’S\", \"LUCKY 7'S\")\n",
    "instant_games_df['instant_game'] = instant_games_df['instant_game'].str.replace(\"GOLDEN 7’S\", \"GOLDEN 7'S\")\n",
    "instant_games_df['instant_game'] = instant_games_df['instant_game'].str.replace(\"BLAZING HOT 7’S\", \"BLAZING HOT 7'S\")\n",
    "instant_games_df.head()"
   ]
  },
  {
   "cell_type": "code",
   "execution_count": null,
   "id": "239c0457",
   "metadata": {},
   "outputs": [],
   "source": [
    "winners_and_games = pd.merge(game_winners_df, instant_games_df,\n",
    "                            left_on ='game', right_on = 'instant_game',\n",
    "                            how = 'left')\n",
    "winners_and_games.head()"
   ]
  },
  {
   "cell_type": "code",
   "execution_count": null,
   "id": "c7f1ec7f",
   "metadata": {},
   "outputs": [],
   "source": [
    "winners_and_games.to_csv('../data/winners_and_games.csv')"
   ]
  },
  {
   "cell_type": "code",
   "execution_count": null,
   "id": "30a1c5a9",
   "metadata": {},
   "outputs": [],
   "source": []
  }
 ],
 "metadata": {
  "kernelspec": {
   "display_name": "Python 3 (ipykernel)",
   "language": "python",
   "name": "python3"
  },
  "language_info": {
   "codemirror_mode": {
    "name": "ipython",
    "version": 3
   },
   "file_extension": ".py",
   "mimetype": "text/x-python",
   "name": "python",
   "nbconvert_exporter": "python",
   "pygments_lexer": "ipython3",
   "version": "3.9.13"
  }
 },
 "nbformat": 4,
 "nbformat_minor": 5
}
