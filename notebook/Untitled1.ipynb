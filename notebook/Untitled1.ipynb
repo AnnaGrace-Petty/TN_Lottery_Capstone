{
 "cells": [
  {
   "cell_type": "code",
   "execution_count": null,
   "id": "60c1ab30",
   "metadata": {},
   "outputs": [],
   "source": [
    "import cloudscraper\n",
    "from bs4 import BeautifulSoup\n",
    "import pandas as pd\n",
    "import re"
   ]
  },
  {
   "cell_type": "code",
   "execution_count": null,
   "id": "afc38b4e",
   "metadata": {},
   "outputs": [],
   "source": [
    "URL = 'https://tnlottery.com/winners/page/'"
   ]
  },
  {
   "cell_type": "code",
   "execution_count": null,
   "id": "486034a4",
   "metadata": {},
   "outputs": [],
   "source": [
    "scraper = cloudscraper.create_scraper(delay=10,   browser={'custom': 'ScraperBot/1.0',})\n",
    "req = scraper.get(URL + str(1))"
   ]
  },
  {
   "cell_type": "code",
   "execution_count": null,
   "id": "ed0c2bd7",
   "metadata": {},
   "outputs": [],
   "source": [
    "soup = BeautifulSoup(req.text)\n",
    "print(soup.prettify())"
   ]
  },
  {
   "cell_type": "markdown",
   "id": "59f65f2a",
   "metadata": {},
   "source": [
    "Getting the location of winners"
   ]
  },
  {
   "cell_type": "code",
   "execution_count": null,
   "id": "46831285",
   "metadata": {},
   "outputs": [],
   "source": [
    "soup.findAll('title')"
   ]
  },
  {
   "cell_type": "code",
   "execution_count": null,
   "id": "342cd15e",
   "metadata": {},
   "outputs": [],
   "source": [
    "winners = soup.findAll('h3', attrs={'class' : 'white sans-serif'})\n",
    "winner_list = [y.text for y in winners]\n",
    "winner_list"
   ]
  },
  {
   "cell_type": "code",
   "execution_count": null,
   "id": "59af694b",
   "metadata": {},
   "outputs": [],
   "source": [
    "amount = soup.findAll('div', attrs={'class' : 'amount'})\n",
    "amount_list = [y.text for y in amount]\n",
    "amount_list"
   ]
  },
  {
   "cell_type": "code",
   "execution_count": null,
   "id": "bc885cc1",
   "metadata": {},
   "outputs": [],
   "source": [
    "game = soup.findAll('p', attrs={'class' : 'white'})\n",
    "game_list = [y.text for y in game]\n",
    "game_list = game_list[:12]\n",
    "game_list"
   ]
  },
  {
   "cell_type": "code",
   "execution_count": null,
   "id": "3ed962c5",
   "metadata": {},
   "outputs": [],
   "source": [
    "location = soup.findAll('a', attrs={'class' : 'white location'})\n",
    "location_list = [y.text for y in location]\n",
    "location_list"
   ]
  },
  {
   "cell_type": "code",
   "execution_count": null,
   "id": "0fa074e0",
   "metadata": {},
   "outputs": [],
   "source": [
    "google_site = [y.get('href') for y in location]\n",
    "google_site"
   ]
  },
  {
   "cell_type": "code",
   "execution_count": null,
   "id": "9e8c8ef3",
   "metadata": {},
   "outputs": [],
   "source": [
    "zip_list  = []\n",
    "\n",
    "for zip in google_site:\n",
    "    x = zip.split('+')\n",
    "    zip_list.append(x[1])\n",
    "    \n",
    "zip_list"
   ]
  },
  {
   "cell_type": "code",
   "execution_count": null,
   "id": "48f52f84",
   "metadata": {},
   "outputs": [],
   "source": [
    "city = soup.findAll('span', attrs={'class' : 'white'})\n",
    "city_list = [y.text for y in city]\n",
    "city_list"
   ]
  },
  {
   "cell_type": "code",
   "execution_count": null,
   "id": "2e837d89",
   "metadata": {},
   "outputs": [],
   "source": [
    "main_winner_list = []\n",
    "main_amount_list = []\n",
    "main_game_list = []\n",
    "main_location_list = []\n",
    "main_city_list = []\n",
    "main_zip_list = []\n",
    "main_google_site = []\n",
    "\n",
    "\n",
    "for num in range(1, 6):\n",
    "    new_url = URL + str(num)\n",
    "    scraper = cloudscraper.create_scraper(delay=10,   browser={'custom': 'ScraperBot/1.0',})\n",
    "    req = scraper.get(new_url)\n",
    "    soup = BeautifulSoup(req.text)\n",
    "    \n",
    "    winners = soup.findAll('h3', attrs={'class' : 'white sans-serif'})\n",
    "    winner_list = [y.text for y in winners]\n",
    "    main_winner_list.extend(winner_list)\n",
    "    \n",
    "    amount = soup.findAll('div', attrs={'class' : 'amount'})\n",
    "    amount_list = [y.text for y in amount]\n",
    "    main_amount_list.extend(amount_list)\n",
    "    \n",
    "    game = soup.findAll('p', attrs={'class' : 'white'})\n",
    "    game_list = [y.text for y in game]\n",
    "    game_list = game_list[:12]\n",
    "    main_game_list.extend(game_list)\n",
    "    \n",
    "    location = soup.findAll('a', attrs={'class' : 'white location'})\n",
    "    location_list = [y.text for y in location]\n",
    "    main_location_list.extend(location_list)\n",
    "    \n",
    "    city = soup.findAll('span', attrs={'class' : 'white'})\n",
    "    city_list = [y.text for y in city]\n",
    "    main_city_list.extend(city_list)\n",
    "    \n",
    "    google_site = [y.get('href') for y in location]\n",
    "    main_google_site.extend(google_site)\n",
    "    \n",
    "    zip_list  = []\n",
    "    \n",
    "    for zip in google_site:\n",
    "        x = zip.split('+')\n",
    "        zip_list.append(x[1])\n",
    "    \n",
    "    main_zip_list.extend(zip_list)\n",
    "    "
   ]
  },
  {
   "cell_type": "code",
   "execution_count": null,
   "id": "e83b00b8",
   "metadata": {},
   "outputs": [],
   "source": [
    "print(len(main_winner_list))\n",
    "print(len(main_amount_list))\n",
    "print(len(main_game_list))\n",
    "print(len(main_location_list))\n",
    "print(len(main_city_list))\n",
    "print(len(main_zip_list))\n",
    "print(len(main_google_site))"
   ]
  },
  {
   "cell_type": "code",
   "execution_count": null,
   "id": "5bfe262a",
   "metadata": {},
   "outputs": [],
   "source": [
    "people_loc_df = pd.DataFrame({'name' : main_winner_list, \n",
    "                              'money' : main_amount_list, \n",
    "                              'game' : main_game_list})\n",
    "\n",
    "people_loc_df = people_loc_df[people_loc_df['name'] != 'Mary Williams']\n",
    "people_loc_df = people_loc_df.reset_index(drop = True)\n",
    "people_loc_df.head()"
   ]
  },
  {
   "cell_type": "code",
   "execution_count": null,
   "id": "6986368c",
   "metadata": {},
   "outputs": [],
   "source": [
    "location_df = pd.DataFrame({'store' : main_location_list, \n",
    "                            'city' : main_city_list, \n",
    "                            'zipcode' : main_zip_list, \n",
    "                            'google_link' : main_google_site})\n",
    "location_df.head()                           "
   ]
  },
  {
   "cell_type": "code",
   "execution_count": null,
   "id": "fe285be4",
   "metadata": {},
   "outputs": [],
   "source": [
    "location_people = pd.merge(people_loc_df, location_df, \n",
    "                           left_index=True, right_index=True)\n",
    "location_people = location_people[location_people['name'] != 'Kevin Wiggins']\n",
    "location_people.head()"
   ]
  },
  {
   "cell_type": "markdown",
   "id": "7120f495",
   "metadata": {},
   "source": [
    "Getting all the wins"
   ]
  },
  {
   "cell_type": "code",
   "execution_count": null,
   "id": "cbdf533c",
   "metadata": {},
   "outputs": [],
   "source": [
    "second_winner_list = []\n",
    "second_amount_list = []\n",
    "second_game_list = []\n",
    "\n",
    "\n",
    "\n",
    "for num in range(1, 87):\n",
    "    new_url = URL + str(num)\n",
    "    scraper = cloudscraper.create_scraper(delay=10,   browser={'custom': 'ScraperBot/1.0',})\n",
    "    req = scraper.get(new_url)\n",
    "    soup = BeautifulSoup(req.text)\n",
    "    \n",
    "    winners = soup.findAll('h3', attrs={'class' : 'white sans-serif'})\n",
    "    winner_list = [y.text for y in winners]\n",
    "    second_winner_list.extend(winner_list)\n",
    "    \n",
    "    amount = soup.findAll('div', attrs={'class' : 'amount'})\n",
    "    amount_list = [y.text for y in amount]\n",
    "    second_amount_list.extend(amount_list)\n",
    "    \n",
    "    game = soup.findAll('p', attrs={'class' : 'white'})\n",
    "    game_list = [y.text for y in game]\n",
    "    game_list = game_list[:12]\n",
    "    second_game_list.extend(game_list)"
   ]
  },
  {
   "cell_type": "code",
   "execution_count": null,
   "id": "d71285e3",
   "metadata": {},
   "outputs": [],
   "source": [
    "print(len(second_winner_list))\n",
    "print(len(second_amount_list))\n",
    "print(len(second_game_list))"
   ]
  },
  {
   "cell_type": "code",
   "execution_count": null,
   "id": "078c4984",
   "metadata": {},
   "outputs": [],
   "source": [
    "winnings_df = pd.DataFrame({'winnings' : second_amount_list})\n",
    "winnings_df = winnings_df['winnings'].str.replace(',','')\n",
    "winnings_df.head()"
   ]
  },
  {
   "cell_type": "code",
   "execution_count": null,
   "id": "32c38af0",
   "metadata": {},
   "outputs": [],
   "source": [
    "winnings_df = winnings_df['winnings'].str.replace('$','')\n",
    "winnings_df.head()"
   ]
  },
  {
   "cell_type": "code",
   "execution_count": null,
   "id": "aafe36b3",
   "metadata": {},
   "outputs": [],
   "source": [
    "#name_df will merge with game_df\n",
    "name_df = pd.DataFrame({'name': second_winner_list})\n",
    "name_df.head()"
   ]
  },
  {
   "cell_type": "code",
   "execution_count": null,
   "id": "5c587ff0",
   "metadata": {},
   "outputs": [],
   "source": [
    "#name_df_2 will merge with winnings_df\n",
    "name_df_2 = name_df[name_df['name'] != 'Debra T. & Harriet B.']\n",
    "name_df_2 = name_df_2[name_df_2['name'] != 'Sonja Beal']\n",
    "name_df_2 = name_df_2[name_df_2['name'] != 'Tony Robinson']\n",
    "name_df_2 = name_df_2[name_df_2['name'] != 'Daryl Jones']\n",
    "name_df_2 = name_df_2[name_df_2['name'] != 'Anthony Dowell']\n",
    "name_df_2 = name_df_2[name_df_2['name'] != 'Michael Vaughn']\n",
    "name_df_2 = name_df_2.reset_index(drop = True)"
   ]
  },
  {
   "cell_type": "code",
   "execution_count": null,
   "id": "5b123030",
   "metadata": {},
   "outputs": [],
   "source": [
    "game_df = pd.DataFrame({'game' : second_game_list})\n",
    "game_df = game_df[game_df['game'] != '© Tennessee Education Lottery Corporation 2022.']\n",
    "game_df = game_df.reset_index(drop = True)\n",
    "game_df.head()"
   ]
  },
  {
   "cell_type": "code",
   "execution_count": null,
   "id": "9facd5d9",
   "metadata": {},
   "outputs": [],
   "source": [
    "#name_df and game_df are same size\n",
    "#also nothing to join on but index so have to keep everything lined up\n",
    "winner_game = pd.merge(name_df, game_df, \n",
    "                           left_index=True, right_index=True)\n",
    "winner_game"
   ]
  },
  {
   "cell_type": "code",
   "execution_count": null,
   "id": "78e4eaa8",
   "metadata": {},
   "outputs": [],
   "source": [
    "#name_df_2 and winnings_df are the same size\n",
    "#also nothing to join on but index so have to keep everything lined up\n",
    "winner_amount = pd.merge(name_df_2, winnings_df, \n",
    "                           left_index=True, right_index=True)\n",
    "winner_amount"
   ]
  },
  {
   "cell_type": "code",
   "execution_count": null,
   "id": "55a2dd7c",
   "metadata": {},
   "outputs": [],
   "source": [
    "#when merging on name all the information should fall in the correct order\n",
    "game_winners_df =pd.merge(winner_game, winner_amount, \n",
    "                           on = 'name')\n",
    "\n",
    "game_winners_df['game'] = game_winners_df['game'].str.replace('Game: ', '')\n",
    "game_winners_df['game'] = game_winners_df['game'].str.upper()\n",
    "game_winners_df['game'] = game_winners_df['game'].str.replace('GOLDEN 7S',\"GOLDEN 7'S\")\n",
    "\n",
    "game_winners_df"
   ]
  },
  {
   "cell_type": "code",
   "execution_count": null,
   "id": "681c4079",
   "metadata": {},
   "outputs": [],
   "source": [
    "#making a dataframe just for drawing style games\n",
    "drawing_games = game_winners_df.loc[(game_winners_df['game'] == 'POWERBALL') |\n",
    "                                    (game_winners_df['game'] == 'CASH 4' )|\n",
    "                                    (game_winners_df['game'] == 'MEGA MILLIONS' )|\n",
    "                                    (game_winners_df['game'] == 'VIP REWARDS DRAWING' )|\n",
    "                                    (game_winners_df['game'] == 'LOTTO AMERICA') |\n",
    "                                    (game_winners_df['game'] == 'KENO TO GO') |\n",
    "                                    (game_winners_df['game'] == 'VIP SECOND CHANCE DRAWING' )|\n",
    "                                    (game_winners_df['game'] == 'POWERBALL DOUBLE PLAY' )|\n",
    "                                    (game_winners_df['game'] == 'POWERBALL 1ST MILLIONAIRE OF THE YEAR SEMI-FINALIST' )|\n",
    "                                    (game_winners_df['game'] == 'CASH 4 LIFE')]\n",
    "\n",
    "drawing_games"
   ]
  },
  {
   "cell_type": "code",
   "execution_count": null,
   "id": "a254be86",
   "metadata": {},
   "outputs": [],
   "source": [
    "#removing all ended games or draw style games that went to the other dataframe\n",
    "\n",
    "game_winners_df = game_winners_df[game_winners_df['game'] != 'POWERBALL']\n",
    "game_winners_df = game_winners_df[game_winners_df['game'] != 'CASH 4']\n",
    "game_winners_df = game_winners_df[game_winners_df['game'] != 'MEGA MILLIONS']\n",
    "game_winners_df = game_winners_df[game_winners_df['game'] != 'VIP REWARDS DRAWING']\n",
    "game_winners_df = game_winners_df[game_winners_df['game'] != 'LOTTO AMERICA']\n",
    "game_winners_df = game_winners_df[game_winners_df['game'] != 'KENO TO GO']\n",
    "game_winners_df = game_winners_df[game_winners_df['game'] != 'PLAY IT AGAIN!']\n",
    "game_winners_df = game_winners_df[game_winners_df['game'] != 'TENNESSEE CASH']\n",
    "game_winners_df = game_winners_df[game_winners_df['game'] != 'VIP SECOND CHANCE DRAWING']\n",
    "game_winners_df = game_winners_df[game_winners_df['game'] != 'POWERBALL DOUBLE PLAY']\n",
    "game_winners_df = game_winners_df[game_winners_df['game'] != 'JUMBO BUCKS PREMIUM EDITION']\n",
    "game_winners_df = game_winners_df[game_winners_df['game'] != 'ULTIMATE 7S']\n",
    "game_winners_df = game_winners_df[game_winners_df['game'] != \"WHITE HOT 7'S\"]\n",
    "game_winners_df = game_winners_df[game_winners_df['game'] != '$500,000 BANKROLL']\n",
    "game_winners_df = game_winners_df[game_winners_df['game'] != 'HIT THE JACKPOT']\n",
    "game_winners_df = game_winners_df[game_winners_df['game'] != 'MERRY & BRIGHT']\n",
    "game_winners_df = game_winners_df[game_winners_df['game'] != 'HOLIDAY CASH BONUS']\n",
    "game_winners_df = game_winners_df[game_winners_df['game'] != 'BOOMING BUCKS']\n",
    "game_winners_df = game_winners_df[game_winners_df['game'] != 'POWERBALL 1ST MILLIONAIRE OF THE YEAR SEMI-FINALIST']\n",
    "game_winners_df = game_winners_df[game_winners_df['game'] != 'HOLIDAY MONEY']\n",
    "game_winners_df = game_winners_df[game_winners_df['game'] != 'HOLIDAY DELIGHT']\n",
    "game_winners_df = game_winners_df[game_winners_df['game'] != '50X BONUS']\n",
    "game_winners_df = game_winners_df[game_winners_df['game'] != 'FAST CASH FEVER']\n",
    "game_winners_df = game_winners_df[game_winners_df['game'] != 'LOTERIA']\n",
    "game_winners_df = game_winners_df[game_winners_df['game'] != 'MILLIONAIRE MONEY']\n",
    "game_winners_df = game_winners_df[game_winners_df['game'] != '10X BONUS']\n",
    "game_winners_df = game_winners_df[game_winners_df['game'] != \"TRIPLE RED 7'S\"]\n",
    "game_winners_df = game_winners_df[game_winners_df['game'] != 'TRIPLE SAPPHIRE']\n",
    "game_winners_df = game_winners_df[game_winners_df['game'] != '100X']\n",
    "game_winners_df = game_winners_df[game_winners_df['game'] != \"MEGA 7'S\"]\n",
    "game_winners_df = game_winners_df[game_winners_df['game'] != '$500,000 EXTREME']\n",
    "game_winners_df = game_winners_df[game_winners_df['game'] != 'I LOVE CASH']\n",
    "game_winners_df = game_winners_df[game_winners_df['game'] != '$500,000 HOLIDAY RICHES']\n",
    "game_winners_df = game_winners_df[game_winners_df['game'] != 'FANTASTIC 10S']\n",
    "game_winners_df = game_winners_df[game_winners_df['game'] != '20X BONUS']\n",
    "game_winners_df = game_winners_df[game_winners_df['game'] != 'ULTIMATE 200X']\n",
    "game_winners_df = game_winners_df[game_winners_df['game'] != '$250,000 EXTREME CASH']\n",
    "game_winners_df = game_winners_df[game_winners_df['game'] != 'HIT $5,000']\n",
    "game_winners_df = game_winners_df[game_winners_df['game'] != 'LADY LUCK DOUBLER']\n",
    "game_winners_df = game_winners_df[game_winners_df['game'] != 'SUPER TRIPLER WIN']\n",
    "game_winners_df = game_winners_df[game_winners_df['game'] != '$100,000 BANKROLL']\n",
    "game_winners_df = game_winners_df[game_winners_df['game'] != 'RED HOT $500,000']\n",
    "game_winners_df = game_winners_df[game_winners_df['game'] != 'MERRY MULTIPLIER']\n",
    "game_winners_df = game_winners_df[game_winners_df['game'] != 'CASH TO GO!']\n",
    "game_winners_df = game_winners_df[game_winners_df['game'] != '$200,000 HAPPY HOLIDAYS']\n",
    "game_winners_df = game_winners_df[game_winners_df['game'] != 'HOLIDAY MAGIC']\n",
    "game_winners_df = game_winners_df[game_winners_df['game'] != \"SUPER 7'S\"]\n",
    "game_winners_df = game_winners_df[game_winners_df['game'] != 'HIT $5,000 BONUS EDITION']\n",
    "game_winners_df = game_winners_df[game_winners_df['game'] != \"RUBY RED 10'S\"]\n",
    "game_winners_df = game_winners_df[game_winners_df['game'] != 'MONEY MANIA!']\n",
    "game_winners_df = game_winners_df[game_winners_df['game'] != 'SPECIAL EDITION JUMBO BUCKS']\n",
    "game_winners_df = game_winners_df[game_winners_df['game'] != 'ROYAL WIN']\n",
    "game_winners_df = game_winners_df[game_winners_df['game'] != 'BONUS DOUBLE MATCH']\n",
    "game_winners_df = game_winners_df[game_winners_df['game'] != 'MONOPOLY 50X']\n",
    "game_winners_df = game_winners_df[game_winners_df['game'] != 'MONOPOLY 100X']\n",
    "game_winners_df = game_winners_df[game_winners_df['game'] != 'RED HOT RICHES']\n",
    "game_winners_df = game_winners_df[game_winners_df['game'] != '$500,000 GOLD']\n",
    "game_winners_df = game_winners_df[game_winners_df['game'] != 'BONUS 7']\n",
    "game_winners_df = game_winners_df[game_winners_df['game'] != '$500 FRENZY']\n",
    "game_winners_df = game_winners_df[game_winners_df['game'] != 'MONOPOLY 20X']\n",
    "game_winners_df = game_winners_df[game_winners_df['game'] != \"FANTASTIC 5'S\"]\n",
    "game_winners_df = game_winners_df[game_winners_df['game'] != 'SPECIAL EDITION J. B. 2020']\n",
    "game_winners_df = game_winners_df[game_winners_df['game'] != '50X']\n",
    "game_winners_df = game_winners_df[game_winners_df['game'] != 'FULL OF $10,000S']\n",
    "game_winners_df = game_winners_df[game_winners_df['game'] != '$500,000 SPECTACULAR']\n",
    "game_winners_df = game_winners_df[game_winners_df['game'] != '777']\n",
    "game_winners_df = game_winners_df[game_winners_df['game'] != 'DIAMONDS X10']\n",
    "game_winners_df = game_winners_df[game_winners_df['game'] != 'CASH MONEY']\n",
    "game_winners_df = game_winners_df[game_winners_df['game'] != 'HOLIDAY GIFTS']\n",
    "game_winners_df = game_winners_df[game_winners_df['game'] != '$20,000 HOLIDAY CHEER']\n",
    "game_winners_df = game_winners_df[game_winners_df['game'] != \"FULL OF $10,000'S\"]\n",
    "game_winners_df = game_winners_df[game_winners_df['game'] != 'PAYDAY MULTIPLIER']\n",
    "game_winners_df = game_winners_df[game_winners_df['game'] != 'BIG ORANGE 8S']\n",
    "game_winners_df = game_winners_df[game_winners_df['game'] != 'TN POWERBALL & MEGA MILLIONS']\n",
    "game_winners_df = game_winners_df[game_winners_df['game'] != 'RED HOT $100S']\n",
    "game_winners_df = game_winners_df[game_winners_df['game'] != 'SUPER HOT 7S']\n",
    "game_winners_df = game_winners_df[game_winners_df['game'] != 'TRIPLE CASH']\n",
    "game_winners_df = game_winners_df[game_winners_df['game'] != 'MONOPOLY']\n",
    "game_winners_df = game_winners_df[game_winners_df['game'] != \"NEON 7'S\"]\n",
    "game_winners_df = game_winners_df[game_winners_df['game'] != 'ALL ABOUT THE BENS']\n",
    "game_winners_df = game_winners_df[game_winners_df['game'] != 'CASH 4 LIFE']\n",
    "game_winners_df = game_winners_df[game_winners_df['game'] != 'CROWN JEWELS']\n",
    "\n",
    "game_winners_df.head()"
   ]
  },
  {
   "cell_type": "code",
   "execution_count": null,
   "id": "78500900",
   "metadata": {},
   "outputs": [],
   "source": [
    "#drawing_games.to_csv('../data/drawing_style_games.csv')"
   ]
  },
  {
   "cell_type": "code",
   "execution_count": null,
   "id": "2c9c5c8d",
   "metadata": {},
   "outputs": [],
   "source": [
    "#location_people.to_csv('../data/location_of_winners.csv')"
   ]
  },
  {
   "cell_type": "code",
   "execution_count": null,
   "id": "c9ecdceb",
   "metadata": {},
   "outputs": [],
   "source": [
    "#game_winners_df.to_csv('../data/instant_games.csv')"
   ]
  },
  {
   "cell_type": "code",
   "execution_count": null,
   "id": "7facc0eb",
   "metadata": {},
   "outputs": [],
   "source": []
  }
 ],
 "metadata": {
  "kernelspec": {
   "display_name": "Python 3 (ipykernel)",
   "language": "python",
   "name": "python3"
  },
  "language_info": {
   "codemirror_mode": {
    "name": "ipython",
    "version": 3
   },
   "file_extension": ".py",
   "mimetype": "text/x-python",
   "name": "python",
   "nbconvert_exporter": "python",
   "pygments_lexer": "ipython3",
   "version": "3.9.13"
  }
 },
 "nbformat": 4,
 "nbformat_minor": 5
}
